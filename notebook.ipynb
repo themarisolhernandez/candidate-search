{
 "cells": [
  {
   "cell_type": "markdown",
   "metadata": {},
   "source": [
    "<img src=\"hr.jpg\" width=\"400\" height=\"2000\" style=\"vertical-align:top\">"
   ]
  },
  {
   "cell_type": "markdown",
   "metadata": {},
   "source": [
    "# <center><font color='navy' size=6> Human Resources and Candidate Search</font></center>\n",
    "<center><font size=3><i>By Marisol Hernandez</i></font></center>  \n",
    "<center><font size=3><i>01/24/2021</i></font></center>\n",
    "\n",
    "---\n",
    "\n",
    "## <font color='navy'> Table of Contents</font>\n",
    "\n",
    "[I. Objective](#objective)  \n",
    "[II. Data Sources](#data-sources)  \n",
    "[II. Preferred Skills](#skills)  \n",
    "[III. Resume Filtering](#resume)  \n",
    "[IV. Top 5 Candidates](#top)  \n",
    "[V. Results](#results)\n"
   ]
  },
  {
   "cell_type": "markdown",
   "metadata": {},
   "source": [
    "## <font color='navy'> Objective </font> <a id='objective'></a>\n",
    "---\n",
    "\n",
    "Human Resources is an essential department of any company and/or organization. HR works in many areas including office management, administrative functions, and most importantly, **recruiting**. One of the key responsibilities of HR is to attract, select, and recommend the most qualified candidates given any pool size. In doing so, HR needs to understand the needs and expectations of any given position so that they select candidates that meet those needs. \n",
    "\n",
    "While recruitment sounds straight forward, it is not a simple task. Much research and consulting must be done to make sure the right candidates are being selected. Furthermore, HR may receive 100's of applications they must review. Manually, this can take days, if not weeks, to accomplish. This  is where Python script can make things fairly simple for HR. In this notebook, I will show how we can use Python script to filter the most fit candidates for a Data Scientist role at Apple."
   ]
  },
  {
   "cell_type": "markdown",
   "metadata": {},
   "source": [
    "## <font color='navy'> Data Sources </font>  <a id='data-sources'></a>\n",
    "---\n",
    "\n",
    "One of the first steps to every exploratory data analysis is to import libraries and to familiarize ourselves with our data sources. A general outline of our input sources is as follows:  \n",
    "1. 15 text files\n",
    "2. One .csv file called *Candidates.csv* \n",
    "3. 1 flat file (.txt)\n",
    "\n",
    "#### 1. 15 text files\n",
    "From scratch, I created 15 text files, each containing the resume for one candidate. The process included selecting resume samples from the web, copying + pasting these resumes to a .doc file, and converting this .doc file into a .txt file. Within this candidate pool, I thought I'd throw my own resume in just for fun. As expected, these resumes contains among other data, the skills of the candidate. A resume example can be seen below:"
   ]
  },
  {
   "cell_type": "code",
   "execution_count": 1,
   "metadata": {},
   "outputs": [
    {
     "name": "stdout",
     "output_type": "stream",
     "text": [
      "MARISOL Y. HERNANDEZ\n",
      "\n",
      "Phone: (832) 226-1712 | Email: m_hernandez30@u.pacific.edu\n",
      "\n",
      "LinkedIn: www.linkedin.com/in/marisol-y-hernandez\n",
      "\n"
     ]
    }
   ],
   "source": [
    "# Import libraries\n",
    "import pandas as pd\n",
    "\n",
    "# Set options for displaying pandas dataframes\n",
    "pd.set_option('display.max_columns', 30)\n",
    "pd.set_option('display.max_rows', 30)\n",
    "\n",
    "example = open(\"data/resumes/MarisolHernandezResume.txt\", \"r\", encoding='utf-8')\n",
    "\n",
    "# Print first 3 lines\n",
    "for i in range(3):\n",
    "    line = example.readline()\n",
    "    print(line)\n",
    "    \n",
    "example.close()"
   ]
  },
  {
   "cell_type": "code",
   "execution_count": 2,
   "metadata": {},
   "outputs": [
    {
     "data": {
      "text/plain": [
       "_io.TextIOWrapper"
      ]
     },
     "execution_count": 2,
     "metadata": {},
     "output_type": "execute_result"
    }
   ],
   "source": [
    "type(example)"
   ]
  },
  {
   "cell_type": "markdown",
   "metadata": {},
   "source": [
    "#### 2. One .csv file called *Candidates.csv* \n",
    "Our second data source is a .csv file called *Candidates.csv* which contains a list of our 15 candidates, including the name of each candidate and the name of the text file containing their resume. Let's see what this looks like:"
   ]
  },
  {
   "cell_type": "code",
   "execution_count": 4,
   "metadata": {},
   "outputs": [
    {
     "data": {
      "text/html": [
       "<div>\n",
       "<style scoped>\n",
       "    .dataframe tbody tr th:only-of-type {\n",
       "        vertical-align: middle;\n",
       "    }\n",
       "\n",
       "    .dataframe tbody tr th {\n",
       "        vertical-align: top;\n",
       "    }\n",
       "\n",
       "    .dataframe thead th {\n",
       "        text-align: right;\n",
       "    }\n",
       "</style>\n",
       "<table border=\"1\" class=\"dataframe\">\n",
       "  <thead>\n",
       "    <tr style=\"text-align: right;\">\n",
       "      <th></th>\n",
       "      <th>Name</th>\n",
       "      <th>File</th>\n",
       "    </tr>\n",
       "  </thead>\n",
       "  <tbody>\n",
       "    <tr>\n",
       "      <th>0</th>\n",
       "      <td>Aiden Brady</td>\n",
       "      <td>AidenBradyResume</td>\n",
       "    </tr>\n",
       "    <tr>\n",
       "      <th>1</th>\n",
       "      <td>Connie Mills</td>\n",
       "      <td>ConnieMillsResume</td>\n",
       "    </tr>\n",
       "    <tr>\n",
       "      <th>2</th>\n",
       "      <td>Cynthia Holmer</td>\n",
       "      <td>CynthiaHolmerResume</td>\n",
       "    </tr>\n",
       "    <tr>\n",
       "      <th>3</th>\n",
       "      <td>Guiselle Hernandez</td>\n",
       "      <td>GuiselleHernandezResume</td>\n",
       "    </tr>\n",
       "    <tr>\n",
       "      <th>4</th>\n",
       "      <td>NaN</td>\n",
       "      <td>IonaFlynnResume</td>\n",
       "    </tr>\n",
       "    <tr>\n",
       "      <th>5</th>\n",
       "      <td>Karla Lewis</td>\n",
       "      <td>KarlaLewisResume</td>\n",
       "    </tr>\n",
       "    <tr>\n",
       "      <th>6</th>\n",
       "      <td>Karla Santos</td>\n",
       "      <td>KarlaSantosResume</td>\n",
       "    </tr>\n",
       "    <tr>\n",
       "      <th>7</th>\n",
       "      <td>Lilian Whittle</td>\n",
       "      <td>LilianWhittleResume</td>\n",
       "    </tr>\n",
       "    <tr>\n",
       "      <th>8</th>\n",
       "      <td>NaN</td>\n",
       "      <td>MalikRabbResume</td>\n",
       "    </tr>\n",
       "    <tr>\n",
       "      <th>9</th>\n",
       "      <td>NaN</td>\n",
       "      <td>MariaTannerResume</td>\n",
       "    </tr>\n",
       "    <tr>\n",
       "      <th>10</th>\n",
       "      <td>Marisol Hernandez</td>\n",
       "      <td>MarisolHernandezResume</td>\n",
       "    </tr>\n",
       "    <tr>\n",
       "      <th>11</th>\n",
       "      <td>NaN</td>\n",
       "      <td>PollyWhiteResume</td>\n",
       "    </tr>\n",
       "    <tr>\n",
       "      <th>12</th>\n",
       "      <td>Ryan Adams</td>\n",
       "      <td>RyanAdamsResume</td>\n",
       "    </tr>\n",
       "    <tr>\n",
       "      <th>13</th>\n",
       "      <td>Stephen Greet</td>\n",
       "      <td>StephenGreetResume</td>\n",
       "    </tr>\n",
       "    <tr>\n",
       "      <th>14</th>\n",
       "      <td>Tatiana Campos</td>\n",
       "      <td>TatianaCamposResume</td>\n",
       "    </tr>\n",
       "  </tbody>\n",
       "</table>\n",
       "</div>"
      ],
      "text/plain": [
       "                  Name                     File\n",
       "0          Aiden Brady         AidenBradyResume\n",
       "1         Connie Mills        ConnieMillsResume\n",
       "2       Cynthia Holmer      CynthiaHolmerResume\n",
       "3   Guiselle Hernandez  GuiselleHernandezResume\n",
       "4                  NaN          IonaFlynnResume\n",
       "5          Karla Lewis         KarlaLewisResume\n",
       "6         Karla Santos        KarlaSantosResume\n",
       "7       Lilian Whittle      LilianWhittleResume\n",
       "8                  NaN          MalikRabbResume\n",
       "9                  NaN        MariaTannerResume\n",
       "10   Marisol Hernandez   MarisolHernandezResume\n",
       "11                 NaN         PollyWhiteResume\n",
       "12          Ryan Adams          RyanAdamsResume\n",
       "13       Stephen Greet       StephenGreetResume\n",
       "14      Tatiana Campos      TatianaCamposResume"
      ]
     },
     "execution_count": 4,
     "metadata": {},
     "output_type": "execute_result"
    }
   ],
   "source": [
    "candidates = pd.read_csv(\"data/Candidates.csv\")\n",
    "candidates"
   ]
  },
  {
   "cell_type": "markdown",
   "metadata": {},
   "source": [
    "From the print out above, we can see that some of our candidates are missing data under the `Name` column, as indicated by **NaN**. Let's go ahead and address this with some data cleaning:"
   ]
  },
  {
   "cell_type": "markdown",
   "metadata": {},
   "source": [
    "In this first step, we want to subset our rows where `Name` is missing."
   ]
  },
  {
   "cell_type": "code",
   "execution_count": 5,
   "metadata": {
    "scrolled": false
   },
   "outputs": [
    {
     "data": {
      "text/html": [
       "<div>\n",
       "<style scoped>\n",
       "    .dataframe tbody tr th:only-of-type {\n",
       "        vertical-align: middle;\n",
       "    }\n",
       "\n",
       "    .dataframe tbody tr th {\n",
       "        vertical-align: top;\n",
       "    }\n",
       "\n",
       "    .dataframe thead th {\n",
       "        text-align: right;\n",
       "    }\n",
       "</style>\n",
       "<table border=\"1\" class=\"dataframe\">\n",
       "  <thead>\n",
       "    <tr style=\"text-align: right;\">\n",
       "      <th></th>\n",
       "      <th>Name</th>\n",
       "      <th>File</th>\n",
       "    </tr>\n",
       "  </thead>\n",
       "  <tbody>\n",
       "    <tr>\n",
       "      <th>4</th>\n",
       "      <td>NaN</td>\n",
       "      <td>IonaFlynnResume</td>\n",
       "    </tr>\n",
       "    <tr>\n",
       "      <th>8</th>\n",
       "      <td>NaN</td>\n",
       "      <td>MalikRabbResume</td>\n",
       "    </tr>\n",
       "    <tr>\n",
       "      <th>9</th>\n",
       "      <td>NaN</td>\n",
       "      <td>MariaTannerResume</td>\n",
       "    </tr>\n",
       "    <tr>\n",
       "      <th>11</th>\n",
       "      <td>NaN</td>\n",
       "      <td>PollyWhiteResume</td>\n",
       "    </tr>\n",
       "  </tbody>\n",
       "</table>\n",
       "</div>"
      ],
      "text/plain": [
       "   Name               File\n",
       "4   NaN    IonaFlynnResume\n",
       "8   NaN    MalikRabbResume\n",
       "9   NaN  MariaTannerResume\n",
       "11  NaN   PollyWhiteResume"
      ]
     },
     "execution_count": 5,
     "metadata": {},
     "output_type": "execute_result"
    }
   ],
   "source": [
    "missing_data = candidates[candidates.isnull().values.any(axis=1)]\n",
    "missing_data"
   ]
  },
  {
   "cell_type": "markdown",
   "metadata": {},
   "source": [
    "In this next step, we open the resume of each of these 4 candidates, extract their name (generally, the first two words of a resume is the first and last name of a candidate), and save it as their `Name` input in *Candidates.csv*."
   ]
  },
  {
   "cell_type": "code",
   "execution_count": 7,
   "metadata": {},
   "outputs": [],
   "source": [
    "for i in missing_data[\"File\"]:\n",
    "    myfile = open(f\"data/resumes/{i}.txt\", \"r\", encoding='utf-8')\n",
    "    myfile = myfile.read()\n",
    "    content = myfile.split()\n",
    "    candidates.loc[candidates[\"File\"] == i,\"Name\"] = content[0] + \" \" + content[1]"
   ]
  },
  {
   "cell_type": "markdown",
   "metadata": {},
   "source": [
    "Now let's check to see if this worked:"
   ]
  },
  {
   "cell_type": "code",
   "execution_count": 8,
   "metadata": {},
   "outputs": [
    {
     "data": {
      "text/html": [
       "<div>\n",
       "<style scoped>\n",
       "    .dataframe tbody tr th:only-of-type {\n",
       "        vertical-align: middle;\n",
       "    }\n",
       "\n",
       "    .dataframe tbody tr th {\n",
       "        vertical-align: top;\n",
       "    }\n",
       "\n",
       "    .dataframe thead th {\n",
       "        text-align: right;\n",
       "    }\n",
       "</style>\n",
       "<table border=\"1\" class=\"dataframe\">\n",
       "  <thead>\n",
       "    <tr style=\"text-align: right;\">\n",
       "      <th></th>\n",
       "      <th>Name</th>\n",
       "      <th>File</th>\n",
       "    </tr>\n",
       "  </thead>\n",
       "  <tbody>\n",
       "    <tr>\n",
       "      <th>0</th>\n",
       "      <td>Aiden Brady</td>\n",
       "      <td>AidenBradyResume</td>\n",
       "    </tr>\n",
       "    <tr>\n",
       "      <th>1</th>\n",
       "      <td>Connie Mills</td>\n",
       "      <td>ConnieMillsResume</td>\n",
       "    </tr>\n",
       "    <tr>\n",
       "      <th>2</th>\n",
       "      <td>Cynthia Holmer</td>\n",
       "      <td>CynthiaHolmerResume</td>\n",
       "    </tr>\n",
       "    <tr>\n",
       "      <th>3</th>\n",
       "      <td>Guiselle Hernandez</td>\n",
       "      <td>GuiselleHernandezResume</td>\n",
       "    </tr>\n",
       "    <tr>\n",
       "      <th>4</th>\n",
       "      <td>Iona Flynn</td>\n",
       "      <td>IonaFlynnResume</td>\n",
       "    </tr>\n",
       "    <tr>\n",
       "      <th>5</th>\n",
       "      <td>Karla Lewis</td>\n",
       "      <td>KarlaLewisResume</td>\n",
       "    </tr>\n",
       "    <tr>\n",
       "      <th>6</th>\n",
       "      <td>Karla Santos</td>\n",
       "      <td>KarlaSantosResume</td>\n",
       "    </tr>\n",
       "    <tr>\n",
       "      <th>7</th>\n",
       "      <td>Lilian Whittle</td>\n",
       "      <td>LilianWhittleResume</td>\n",
       "    </tr>\n",
       "    <tr>\n",
       "      <th>8</th>\n",
       "      <td>Malik Rabb</td>\n",
       "      <td>MalikRabbResume</td>\n",
       "    </tr>\n",
       "    <tr>\n",
       "      <th>9</th>\n",
       "      <td>Maria Tanner</td>\n",
       "      <td>MariaTannerResume</td>\n",
       "    </tr>\n",
       "    <tr>\n",
       "      <th>10</th>\n",
       "      <td>Marisol Hernandez</td>\n",
       "      <td>MarisolHernandezResume</td>\n",
       "    </tr>\n",
       "    <tr>\n",
       "      <th>11</th>\n",
       "      <td>Polly White</td>\n",
       "      <td>PollyWhiteResume</td>\n",
       "    </tr>\n",
       "    <tr>\n",
       "      <th>12</th>\n",
       "      <td>Ryan Adams</td>\n",
       "      <td>RyanAdamsResume</td>\n",
       "    </tr>\n",
       "    <tr>\n",
       "      <th>13</th>\n",
       "      <td>Stephen Greet</td>\n",
       "      <td>StephenGreetResume</td>\n",
       "    </tr>\n",
       "    <tr>\n",
       "      <th>14</th>\n",
       "      <td>Tatiana Campos</td>\n",
       "      <td>TatianaCamposResume</td>\n",
       "    </tr>\n",
       "  </tbody>\n",
       "</table>\n",
       "</div>"
      ],
      "text/plain": [
       "                  Name                     File\n",
       "0          Aiden Brady         AidenBradyResume\n",
       "1         Connie Mills        ConnieMillsResume\n",
       "2       Cynthia Holmer      CynthiaHolmerResume\n",
       "3   Guiselle Hernandez  GuiselleHernandezResume\n",
       "4           Iona Flynn          IonaFlynnResume\n",
       "5          Karla Lewis         KarlaLewisResume\n",
       "6         Karla Santos        KarlaSantosResume\n",
       "7       Lilian Whittle      LilianWhittleResume\n",
       "8           Malik Rabb          MalikRabbResume\n",
       "9         Maria Tanner        MariaTannerResume\n",
       "10   Marisol Hernandez   MarisolHernandezResume\n",
       "11         Polly White         PollyWhiteResume\n",
       "12          Ryan Adams          RyanAdamsResume\n",
       "13       Stephen Greet       StephenGreetResume\n",
       "14      Tatiana Campos      TatianaCamposResume"
      ]
     },
     "execution_count": 8,
     "metadata": {},
     "output_type": "execute_result"
    }
   ],
   "source": [
    "candidates"
   ]
  },
  {
   "cell_type": "markdown",
   "metadata": {},
   "source": [
    "Yes, it does indeed work."
   ]
  },
  {
   "cell_type": "markdown",
   "metadata": {},
   "source": [
    "#### 3. 1 flat file (.txt)\n",
    "Our last data sources is 1 flat file in the form of .txt. This text file contains the job description, as well as a general list of preferred skills:"
   ]
  },
  {
   "cell_type": "code",
   "execution_count": 9,
   "metadata": {},
   "outputs": [
    {
     "name": "stdout",
     "output_type": "stream",
     "text": [
      "Summary\n",
      "\n",
      "Apple is looking to hire an outstanding Data Scientists with strong technical analytical skills to lead the effort for scalable data enrichment in music metadata. This includes analyzing input data sources, measuring data quality impact, identifying data anomalies, running validation exercises and experimenting with data science to drive improvements. This person will collaborate very closely and cross-functionally with Engineering, Product Management, Analytics and other teams to ensure success.\n",
      "\n",
      "\n",
      "\n",
      "Skills:\n",
      "\n",
      "SQL\n",
      "\n",
      "Querying\n",
      "\n",
      "Python\n",
      "\n",
      "R\n",
      "\n",
      "C++\n",
      "\n",
      "SAS\n",
      "\n",
      "Java\n",
      "\n",
      "Git\n",
      "\n",
      "GitHub\n",
      "\n",
      "Jupyter Notebooks\n",
      "\n",
      "AWS\n",
      "\n"
     ]
    }
   ],
   "source": [
    "job = open(\"data/JobDescription.txt\", \"r\")\n",
    "\n",
    "# Print first 4 lines\n",
    "for line in range(15):\n",
    "    line = job.readline()\n",
    "    print(line)\n",
    "    \n",
    "job.close()"
   ]
  },
  {
   "cell_type": "markdown",
   "metadata": {},
   "source": [
    "For the sake of space, I didn't print out the entire text file, but if you open it within your own system you will see that a list of preferred skills follows."
   ]
  },
  {
   "cell_type": "markdown",
   "metadata": {},
   "source": [
    "## <font color='navy'> Preferred Skills </font>  <a id='skills'></a>\n",
    "---\n",
    "Now that I've introduced our input files, my next objective is to write Python script that reads through the job description and gathers the required skills. To begin, I create an empty list called `skills` to hold the required skills. I then open the job description, read the lines following the string `\"Skills\"`, and add each skill to my empty list. \n",
    "\n",
    "You may notice two things. First, I apply `lower()` to each skill so that it converts each character to lowercase. In the following section, you will see that I also apply `lower()` when reading each resume so that we don't miss any skills due to uppercase / lowercase discrepencies. Secondly, I also had to strip the new line character `'\\n'` from each skill. We can now see the required skills stored in a list."
   ]
  },
  {
   "cell_type": "code",
   "execution_count": 11,
   "metadata": {},
   "outputs": [
    {
     "name": "stdout",
     "output_type": "stream",
     "text": [
      "['sql', 'querying', 'python', 'r', 'c++', 'sas', 'java', 'git', 'github', 'jupyter notebooks', 'aws', 'unix', 'statistics', 'reinforcement learning', 'excel', 'tableau']\n"
     ]
    }
   ],
   "source": [
    "skills = []\n",
    "\n",
    "with open(\"data/JobDescription.txt\", \"r\") as file:\n",
    "    for line in file:\n",
    "        if \"Skills\" in line:\n",
    "            for line in file:\n",
    "                skills.append(line.lower().rstrip('\\n'))\n",
    "    file.close()\n",
    "                \n",
    "print(skills)"
   ]
  },
  {
   "cell_type": "markdown",
   "metadata": {},
   "source": [
    "## <font color='navy'> Resume Filtering </font>  <a id='resume'></a>\n",
    "---\n",
    "In this next section, I want to write Python script that loops through *Candidates.csv* and checks if the candidate holds any of the skills listed above so that we can identify the most fit candidates. In the script below, I create two empty lists. The first will hold the number of skills each candidate meets. The second will hold the skills each candidate meets. The first for loop loops through *Candidates.csv*, opening each file for us to read. The nested for loop then checks to see if each skill is mentioned in the contents of the resume. If so, it tallies it and adds the skills to an empty string. Once the tally and the skills are recorded, the tally is added to the `num_skills` list and the recorded skills are added to the `skills_by_candidate` list."
   ]
  },
  {
   "cell_type": "code",
   "execution_count": 12,
   "metadata": {},
   "outputs": [],
   "source": [
    "num_skills = []\n",
    "skills_by_candidate = []\n",
    "\n",
    "for i in candidates[\"File\"]:\n",
    "    myfile = open(f\"data/resumes/{i}.txt\", \"r\", encoding='utf-8')\n",
    "    content = myfile.read().lower()\n",
    "    \n",
    "    x = 0\n",
    "    empty = str()\n",
    "    \n",
    "    for i in skills:\n",
    "        if i in content:\n",
    "            x += 1\n",
    "            empty = empty + i[0].upper() + i[1:] + \", \"\n",
    "    num_skills.append(x)\n",
    "    skills_by_candidate.append(empty)\n",
    "    myfile.close()"
   ]
  },
  {
   "cell_type": "markdown",
   "metadata": {},
   "source": [
    "I then create a dictionary consisting of the candidate names, the number of skills met, and the skills, which is then transformed into an ordered dataframe based on the number of skills met. Printing the first five rows gives us our 5 most qualified candidates."
   ]
  },
  {
   "cell_type": "code",
   "execution_count": 13,
   "metadata": {},
   "outputs": [
    {
     "data": {
      "text/html": [
       "<div>\n",
       "<style scoped>\n",
       "    .dataframe tbody tr th:only-of-type {\n",
       "        vertical-align: middle;\n",
       "    }\n",
       "\n",
       "    .dataframe tbody tr th {\n",
       "        vertical-align: top;\n",
       "    }\n",
       "\n",
       "    .dataframe thead th {\n",
       "        text-align: right;\n",
       "    }\n",
       "</style>\n",
       "<table border=\"1\" class=\"dataframe\">\n",
       "  <thead>\n",
       "    <tr style=\"text-align: right;\">\n",
       "      <th></th>\n",
       "      <th>Name</th>\n",
       "      <th>Num. Of Skills Met</th>\n",
       "      <th>Skills</th>\n",
       "    </tr>\n",
       "  </thead>\n",
       "  <tbody>\n",
       "    <tr>\n",
       "      <th>10</th>\n",
       "      <td>Marisol Hernandez</td>\n",
       "      <td>10</td>\n",
       "      <td>Sql, Python, R, C++, Sas, Git, Github, Unix, S...</td>\n",
       "    </tr>\n",
       "    <tr>\n",
       "      <th>4</th>\n",
       "      <td>Iona Flynn</td>\n",
       "      <td>8</td>\n",
       "      <td>Sql, R, C++, Sas, Java, Statistics, Excel, Tab...</td>\n",
       "    </tr>\n",
       "    <tr>\n",
       "      <th>9</th>\n",
       "      <td>Maria Tanner</td>\n",
       "      <td>8</td>\n",
       "      <td>Sql, Querying, Python, R, Sas, Git, Statistics...</td>\n",
       "    </tr>\n",
       "    <tr>\n",
       "      <th>5</th>\n",
       "      <td>Karla Lewis</td>\n",
       "      <td>7</td>\n",
       "      <td>Sql, Python, R, Git, Aws, Statistics, Tableau,</td>\n",
       "    </tr>\n",
       "    <tr>\n",
       "      <th>2</th>\n",
       "      <td>Cynthia Holmer</td>\n",
       "      <td>6</td>\n",
       "      <td>Sql, R, C++, Statistics, Excel, Tableau,</td>\n",
       "    </tr>\n",
       "  </tbody>\n",
       "</table>\n",
       "</div>"
      ],
      "text/plain": [
       "                 Name  Num. Of Skills Met  \\\n",
       "10  Marisol Hernandez                  10   \n",
       "4          Iona Flynn                   8   \n",
       "9        Maria Tanner                   8   \n",
       "5         Karla Lewis                   7   \n",
       "2      Cynthia Holmer                   6   \n",
       "\n",
       "                                               Skills  \n",
       "10  Sql, Python, R, C++, Sas, Git, Github, Unix, S...  \n",
       "4   Sql, R, C++, Sas, Java, Statistics, Excel, Tab...  \n",
       "9   Sql, Querying, Python, R, Sas, Git, Statistics...  \n",
       "5     Sql, Python, R, Git, Aws, Statistics, Tableau,   \n",
       "2           Sql, R, C++, Statistics, Excel, Tableau,   "
      ]
     },
     "execution_count": 13,
     "metadata": {},
     "output_type": "execute_result"
    }
   ],
   "source": [
    "dictionary = {\"Name\" : candidates[\"Name\"], \"Num. Of Skills Met\" : num_skills, \"Skills\" : skills_by_candidate}\n",
    "dictionary = pd.DataFrame(dictionary)\n",
    "dictionary = dictionary.sort_values(by=\"Num. Of Skills Met\", ascending=False)\n",
    "dictionary.head()"
   ]
  },
  {
   "cell_type": "markdown",
   "metadata": {},
   "source": [
    "From the print out above, I immediately notice an error within the Skills column. There seems to be a trailing ', ' following the last skill lasted. Running the following script strips the ', '."
   ]
  },
  {
   "cell_type": "code",
   "execution_count": 26,
   "metadata": {},
   "outputs": [
    {
     "data": {
      "text/html": [
       "<div>\n",
       "<style scoped>\n",
       "    .dataframe tbody tr th:only-of-type {\n",
       "        vertical-align: middle;\n",
       "    }\n",
       "\n",
       "    .dataframe tbody tr th {\n",
       "        vertical-align: top;\n",
       "    }\n",
       "\n",
       "    .dataframe thead th {\n",
       "        text-align: right;\n",
       "    }\n",
       "</style>\n",
       "<table border=\"1\" class=\"dataframe\">\n",
       "  <thead>\n",
       "    <tr style=\"text-align: right;\">\n",
       "      <th></th>\n",
       "      <th>Name</th>\n",
       "      <th>Num. Of Skills Met</th>\n",
       "      <th>Skills</th>\n",
       "    </tr>\n",
       "  </thead>\n",
       "  <tbody>\n",
       "    <tr>\n",
       "      <th>10</th>\n",
       "      <td>Marisol Hernandez</td>\n",
       "      <td>10</td>\n",
       "      <td>Sql, Python, R, C++, Sas, Git, Github, Unix, S...</td>\n",
       "    </tr>\n",
       "    <tr>\n",
       "      <th>4</th>\n",
       "      <td>Iona Flynn</td>\n",
       "      <td>8</td>\n",
       "      <td>Sql, R, C++, Sas, Java, Statistics, Excel, Tab...</td>\n",
       "    </tr>\n",
       "    <tr>\n",
       "      <th>9</th>\n",
       "      <td>Maria Tanner</td>\n",
       "      <td>8</td>\n",
       "      <td>Sql, Querying, Python, R, Sas, Git, Statistics...</td>\n",
       "    </tr>\n",
       "    <tr>\n",
       "      <th>5</th>\n",
       "      <td>Karla Lewis</td>\n",
       "      <td>7</td>\n",
       "      <td>Sql, Python, R, Git, Aws, Statistics, Tableau</td>\n",
       "    </tr>\n",
       "    <tr>\n",
       "      <th>2</th>\n",
       "      <td>Cynthia Holmer</td>\n",
       "      <td>6</td>\n",
       "      <td>Sql, R, C++, Statistics, Excel, Tableau</td>\n",
       "    </tr>\n",
       "  </tbody>\n",
       "</table>\n",
       "</div>"
      ],
      "text/plain": [
       "                 Name  Num. Of Skills Met  \\\n",
       "10  Marisol Hernandez                  10   \n",
       "4          Iona Flynn                   8   \n",
       "9        Maria Tanner                   8   \n",
       "5         Karla Lewis                   7   \n",
       "2      Cynthia Holmer                   6   \n",
       "\n",
       "                                               Skills  \n",
       "10  Sql, Python, R, C++, Sas, Git, Github, Unix, S...  \n",
       "4   Sql, R, C++, Sas, Java, Statistics, Excel, Tab...  \n",
       "9   Sql, Querying, Python, R, Sas, Git, Statistics...  \n",
       "5       Sql, Python, R, Git, Aws, Statistics, Tableau  \n",
       "2             Sql, R, C++, Statistics, Excel, Tableau  "
      ]
     },
     "execution_count": 26,
     "metadata": {},
     "output_type": "execute_result"
    }
   ],
   "source": [
    "for i in range(len(dictionary)):\n",
    "    dictionary.iloc[i,2] = dictionary.iloc[i,2].strip(', ')\n",
    "dictionary.head()"
   ]
  },
  {
   "cell_type": "markdown",
   "metadata": {},
   "source": [
    "## <font color='navy'> Top 5 Candidates </font>  <a id='top'></a>\n",
    "---\n",
    "Because I am only interested in the top 5 candidates, I subset the first five rows:"
   ]
  },
  {
   "cell_type": "code",
   "execution_count": 14,
   "metadata": {},
   "outputs": [
    {
     "data": {
      "text/html": [
       "<div>\n",
       "<style scoped>\n",
       "    .dataframe tbody tr th:only-of-type {\n",
       "        vertical-align: middle;\n",
       "    }\n",
       "\n",
       "    .dataframe tbody tr th {\n",
       "        vertical-align: top;\n",
       "    }\n",
       "\n",
       "    .dataframe thead th {\n",
       "        text-align: right;\n",
       "    }\n",
       "</style>\n",
       "<table border=\"1\" class=\"dataframe\">\n",
       "  <thead>\n",
       "    <tr style=\"text-align: right;\">\n",
       "      <th></th>\n",
       "      <th>Name</th>\n",
       "      <th>Num. Of Skills Met</th>\n",
       "      <th>Skills</th>\n",
       "    </tr>\n",
       "  </thead>\n",
       "  <tbody>\n",
       "    <tr>\n",
       "      <th>10</th>\n",
       "      <td>Marisol Hernandez</td>\n",
       "      <td>10</td>\n",
       "      <td>Sql, Python, R, C++, Sas, Git, Github, Unix, S...</td>\n",
       "    </tr>\n",
       "    <tr>\n",
       "      <th>4</th>\n",
       "      <td>Iona Flynn</td>\n",
       "      <td>8</td>\n",
       "      <td>Sql, R, C++, Sas, Java, Statistics, Excel, Tab...</td>\n",
       "    </tr>\n",
       "    <tr>\n",
       "      <th>9</th>\n",
       "      <td>Maria Tanner</td>\n",
       "      <td>8</td>\n",
       "      <td>Sql, Querying, Python, R, Sas, Git, Statistics...</td>\n",
       "    </tr>\n",
       "    <tr>\n",
       "      <th>5</th>\n",
       "      <td>Karla Lewis</td>\n",
       "      <td>7</td>\n",
       "      <td>Sql, Python, R, Git, Aws, Statistics, Tableau,</td>\n",
       "    </tr>\n",
       "    <tr>\n",
       "      <th>2</th>\n",
       "      <td>Cynthia Holmer</td>\n",
       "      <td>6</td>\n",
       "      <td>Sql, R, C++, Statistics, Excel, Tableau,</td>\n",
       "    </tr>\n",
       "  </tbody>\n",
       "</table>\n",
       "</div>"
      ],
      "text/plain": [
       "                 Name  Num. Of Skills Met  \\\n",
       "10  Marisol Hernandez                  10   \n",
       "4          Iona Flynn                   8   \n",
       "9        Maria Tanner                   8   \n",
       "5         Karla Lewis                   7   \n",
       "2      Cynthia Holmer                   6   \n",
       "\n",
       "                                               Skills  \n",
       "10  Sql, Python, R, C++, Sas, Git, Github, Unix, S...  \n",
       "4   Sql, R, C++, Sas, Java, Statistics, Excel, Tab...  \n",
       "9   Sql, Querying, Python, R, Sas, Git, Statistics...  \n",
       "5     Sql, Python, R, Git, Aws, Statistics, Tableau,   \n",
       "2           Sql, R, C++, Statistics, Excel, Tableau,   "
      ]
     },
     "execution_count": 14,
     "metadata": {},
     "output_type": "execute_result"
    }
   ],
   "source": [
    "top = dictionary[0:5]\n",
    "top"
   ]
  },
  {
   "cell_type": "markdown",
   "metadata": {},
   "source": [
    "I want to create a text file called *ToInterview.csv* that contains a list of the 5 most fit candidates in order of priority, along with their skills. To do so, I open a .csv file to write to and I add the candidate names, followed by the skills."
   ]
  },
  {
   "cell_type": "code",
   "execution_count": 15,
   "metadata": {},
   "outputs": [],
   "source": [
    "top5 = open(\"data/ToInterview.csv\", \"w\")\n",
    "\n",
    "for i in range(0,5):\n",
    "    top5.write(str(top.iloc[i,0] + \", \" + top.iloc[i,2] + \"\\n\"))\n",
    "    \n",
    "top5.close()"
   ]
  },
  {
   "cell_type": "markdown",
   "metadata": {},
   "source": [
    "## <font color='navy'> Results </font>  <a id='results'></a>\n",
    "---\n",
    "The objective of this investigation was to write Python script that would identify the top 5 most qualified candidates for a Data Scientist role at Apple. In doing so, I wrote a text file *ToInterview.csv* that contains a list of the 5 candidates, along with their skills. We can view the results by opening and reading the .csv file:"
   ]
  },
  {
   "cell_type": "code",
   "execution_count": 17,
   "metadata": {},
   "outputs": [
    {
     "name": "stdout",
     "output_type": "stream",
     "text": [
      "Marisol Hernandez, Sql, Python, R, C++, Sas, Git, Github, Unix, Statistics, Tableau, \n",
      "\n",
      "Iona Flynn, Sql, R, C++, Sas, Java, Statistics, Excel, Tableau, \n",
      "\n",
      "Maria Tanner, Sql, Querying, Python, R, Sas, Git, Statistics, Tableau, \n",
      "\n",
      "Karla Lewis, Sql, Python, R, Git, Aws, Statistics, Tableau, \n",
      "\n",
      "Cynthia Holmer, Sql, R, C++, Statistics, Excel, Tableau, \n",
      "\n"
     ]
    }
   ],
   "source": [
    "to_interview = open(\"data/ToInterview.csv\", \"r\")\n",
    "\n",
    "for line in to_interview:\n",
    "    print(line)\n",
    "    \n",
    "to_interview.close()"
   ]
  }
 ],
 "metadata": {
  "kernelspec": {
   "display_name": "Python 3",
   "language": "python",
   "name": "python3"
  },
  "language_info": {
   "codemirror_mode": {
    "name": "ipython",
    "version": 3
   },
   "file_extension": ".py",
   "mimetype": "text/x-python",
   "name": "python",
   "nbconvert_exporter": "python",
   "pygments_lexer": "ipython3",
   "version": "3.8.8"
  }
 },
 "nbformat": 4,
 "nbformat_minor": 4
}
